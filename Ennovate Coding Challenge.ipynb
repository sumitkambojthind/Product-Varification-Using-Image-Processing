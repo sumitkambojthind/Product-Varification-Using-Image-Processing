{
 "cells": [
  {
   "cell_type": "code",
   "execution_count": 1,
   "id": "461d501a",
   "metadata": {},
   "outputs": [],
   "source": [
    "import cv2 as cv\n",
    "import numpy as np\n",
    "import pandas as pd\n",
    "import os\n",
    "import matplotlib.pyplot as plt"
   ]
  },
  {
   "cell_type": "markdown",
   "id": "bdbfee19",
   "metadata": {},
   "source": [
    "# Read dataset"
   ]
  },
  {
   "cell_type": "code",
   "execution_count": 3,
   "id": "01d1e1ac",
   "metadata": {},
   "outputs": [],
   "source": [
    "dirPath=\"Train\"\n",
    "allName=os.listdir(dirPath)"
   ]
  },
  {
   "cell_type": "markdown",
   "id": "d81b853f",
   "metadata": {},
   "source": [
    "# Display Image"
   ]
  },
  {
   "cell_type": "code",
   "execution_count": 4,
   "id": "4248690c",
   "metadata": {},
   "outputs": [],
   "source": [
    "def display(img):\n",
    "    plt.imread(img)"
   ]
  },
  {
   "cell_type": "markdown",
   "id": "2c75b352",
   "metadata": {},
   "source": [
    "# Rotating a image"
   ]
  },
  {
   "cell_type": "code",
   "execution_count": 5,
   "id": "805797c4",
   "metadata": {},
   "outputs": [],
   "source": [
    "def rotateLeft(img):\n",
    "    return cv.rotate(img,cv.ROTATE_90_CLOCKWISE)\n",
    "def rotateUp(img):\n",
    "    return cv.rotate(img, cv.ROTATE_180)\n",
    "def rotateRight(img):\n",
    "    return cv.rotate(img, cv.ROTATE_90_COUNTERCLOCKWISE)"
   ]
  },
  {
   "cell_type": "markdown",
   "id": "d045fb6b",
   "metadata": {},
   "source": [
    "# Cleaning the Dataset"
   ]
  },
  {
   "cell_type": "markdown",
   "id": "1cb28cfa",
   "metadata": {},
   "source": [
    "### All Images which contain QR-Code will remain\n",
    "### All Images which are blur will be deleted\n",
    "### All  Images which having not QR code , Remove it\n"
   ]
  },
  {
   "cell_type": "code",
   "execution_count": 6,
   "id": "f77775e5",
   "metadata": {
    "scrolled": true
   },
   "outputs": [],
   "source": [
    "qrc=cv.QRCodeDetector()\n",
    "\n",
    "def cleanDataset(allImg,dirPath):\n",
    "    # it contain value of QR-code of each image which ,is considing\n",
    "    qrcDic={}\n",
    "    #Number of Remaing img\n",
    "    count=0\n",
    "    for imgName in allImg:\n",
    "        tempPath=dirPath+\"/\"+imgName\n",
    "        img=cv.imread(tempPath)\n",
    "        try:\n",
    "            #gray=cv.cvtColor(img,cv.COLOR_BGR2GRAY)\n",
    "            retval, decoded_info, points, straight_qrcode = qrc.detectAndDecodeMulti(img)\n",
    "            if retval==False:\n",
    "                os.remove(tempPath)\n",
    "            else:\n",
    "                try:\n",
    "                    qrcDic[decoded_info]=1+qrcDic[decoded_info]\n",
    "                except:\n",
    "                    qrcDic[decoded_info]=1\n",
    "        except:\n",
    "            count+=1\n",
    "    print(\"Total valid Images :\",count)\n",
    "    return qrcDic\n",
    "    \n"
   ]
  },
  {
   "cell_type": "code",
   "execution_count": 7,
   "id": "b59c0507",
   "metadata": {},
   "outputs": [],
   "source": [
    "# print( straight_qrcode)"
   ]
  },
  {
   "cell_type": "markdown",
   "id": "f89826d8",
   "metadata": {},
   "source": [
    "# check Input img is valid (on Train Dataset)"
   ]
  },
  {
   "cell_type": "code",
   "execution_count": 8,
   "id": "e04ce6e9",
   "metadata": {},
   "outputs": [],
   "source": [
    "qrc=cv.QRCodeDetector()\n",
    "def isValid(allName,dirPath):\n",
    "    trainDic=trainDataset()\n",
    "    count=0\n",
    "    for imgName in allName:\n",
    "        tempPath=dirPath+\"/\"+imgName\n",
    "        img=cv.imread(tempPath)\n",
    "        try:\n",
    "            #gray=cv.cvtColor(img,cv.COLOR_BGR2GRAY)\n",
    "            retval, decoded_info, points, straight_qrcode = qrc.detectAndDecodeMulti(img)\n",
    "            if retval==True:\n",
    "                if trainDic[decoded_info]>0:\n",
    "                    count+=1\n",
    "        except:\n",
    "            print(\"Not Consider this Image :\", imgName)\n",
    "    return count\n",
    "    "
   ]
  },
  {
   "cell_type": "markdown",
   "id": "a329c5c5",
   "metadata": {},
   "source": [
    "# Train Dataset"
   ]
  },
  {
   "cell_type": "code",
   "execution_count": 11,
   "id": "703ab192",
   "metadata": {},
   "outputs": [],
   "source": [
    "def trainDataset():\n",
    "    dirPath=\"Train\"\n",
    "    allName=os.listdir(dirPath)\n",
    "    return cleanDataset(allName,dirPath)\n",
    "    "
   ]
  },
  {
   "cell_type": "markdown",
   "id": "38009ada",
   "metadata": {},
   "source": [
    "# Test Dataset"
   ]
  },
  {
   "cell_type": "code",
   "execution_count": 12,
   "id": "936ce947",
   "metadata": {},
   "outputs": [
    {
     "name": "stdout",
     "output_type": "stream",
     "text": [
      "Total valid Images : 0\n"
     ]
    }
   ],
   "source": [
    "dirPath=\"Valid\"\n",
    "allName=os.listdir(dirPath)\n",
    "validCount=isValid(allName,dirPath)"
   ]
  },
  {
   "cell_type": "code",
   "execution_count": 14,
   "id": "76ad0b97",
   "metadata": {},
   "outputs": [
    {
     "name": "stdout",
     "output_type": "stream",
     "text": [
      "Total Img in Valid/Test Dataset : 28\n",
      "No of valid Img Model predict: 11\n",
      "Accuracy : 39.285714285714285\n"
     ]
    }
   ],
   "source": [
    "# total no of img in Valid Dataset\n",
    "print(\"Total Img in Valid/Test Dataset :\", len(allName))\n",
    "# Test on Valid Image\n",
    "\n",
    "print(\"No of valid Img Model predict:\",validCount)\n",
    "\n",
    "# Accuracy of Model\n",
    "print(\"Accuracy :\",validCount/len(allName)*100)\n",
    "\n",
    "# Because their are some blur img, some not containg qr code\n"
   ]
  },
  {
   "cell_type": "code",
   "execution_count": null,
   "id": "781f08d8",
   "metadata": {},
   "outputs": [],
   "source": []
  }
 ],
 "metadata": {
  "kernelspec": {
   "display_name": "Python 3 (ipykernel)",
   "language": "python",
   "name": "python3"
  },
  "language_info": {
   "codemirror_mode": {
    "name": "ipython",
    "version": 3
   },
   "file_extension": ".py",
   "mimetype": "text/x-python",
   "name": "python",
   "nbconvert_exporter": "python",
   "pygments_lexer": "ipython3",
   "version": "3.10.9"
  }
 },
 "nbformat": 4,
 "nbformat_minor": 5
}
